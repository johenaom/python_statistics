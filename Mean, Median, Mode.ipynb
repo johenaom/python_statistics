{
 "cells": [
  {
   "cell_type": "markdown",
   "metadata": {},
   "source": [
    "# Estadística con Python"
   ]
  },
  {
   "cell_type": "markdown",
   "metadata": {},
   "source": [
    "## Mean, Median, Mode\n",
    "\n",
    "### GitHub repository: https://github.com/jorgemauricio/python_statistics\n",
    "\n",
    "### Instructor: Jorge Mauricio"
   ]
  },
  {
   "cell_type": "code",
   "execution_count": 65,
   "metadata": {},
   "outputs": [],
   "source": [
    "# librerías\n",
    "import pandas as pd\n",
    "import numpy as np\n",
    "import matplotlib.pyplot as plt\n",
    "%matplotlib inline\n",
    "plt.style.use(\"seaborn\")"
   ]
  },
  {
   "cell_type": "code",
   "execution_count": 66,
   "metadata": {},
   "outputs": [
    {
     "data": {
      "text/html": [
       "<div>\n",
       "<style>\n",
       "    .dataframe thead tr:only-child th {\n",
       "        text-align: right;\n",
       "    }\n",
       "\n",
       "    .dataframe thead th {\n",
       "        text-align: left;\n",
       "    }\n",
       "\n",
       "    .dataframe tbody tr th {\n",
       "        vertical-align: top;\n",
       "    }\n",
       "</style>\n",
       "<table border=\"1\" class=\"dataframe\">\n",
       "  <thead>\n",
       "    <tr style=\"text-align: right;\">\n",
       "      <th></th>\n",
       "      <th>numero</th>\n",
       "      <th>fecha</th>\n",
       "      <th>nombre</th>\n",
       "      <th>latitud</th>\n",
       "      <th>longitud</th>\n",
       "      <th>prec</th>\n",
       "      <th>tmax</th>\n",
       "      <th>tmin</th>\n",
       "      <th>tmed</th>\n",
       "      <th>velvmax</th>\n",
       "      <th>velv</th>\n",
       "      <th>dirv</th>\n",
       "      <th>radg</th>\n",
       "      <th>humr</th>\n",
       "    </tr>\n",
       "  </thead>\n",
       "  <tbody>\n",
       "    <tr>\n",
       "      <th>0</th>\n",
       "      <td>2</td>\n",
       "      <td>2018-05-01 00:00:00</td>\n",
       "      <td>La Mirinda</td>\n",
       "      <td>22.248528</td>\n",
       "      <td>-102.251778</td>\n",
       "      <td>0.0</td>\n",
       "      <td>30.0</td>\n",
       "      <td>8.2</td>\n",
       "      <td>20.56</td>\n",
       "      <td>17.4</td>\n",
       "      <td>9.01</td>\n",
       "      <td>163.1</td>\n",
       "      <td>429.81</td>\n",
       "      <td>33.47</td>\n",
       "    </tr>\n",
       "    <tr>\n",
       "      <th>1</th>\n",
       "      <td>2</td>\n",
       "      <td>2018-05-02 00:00:00</td>\n",
       "      <td>La Mirinda</td>\n",
       "      <td>22.248528</td>\n",
       "      <td>-102.251778</td>\n",
       "      <td>0.2</td>\n",
       "      <td>31.4</td>\n",
       "      <td>13.0</td>\n",
       "      <td>21.94</td>\n",
       "      <td>15.6</td>\n",
       "      <td>7.26</td>\n",
       "      <td>161.1</td>\n",
       "      <td>450.76</td>\n",
       "      <td>41.72</td>\n",
       "    </tr>\n",
       "    <tr>\n",
       "      <th>2</th>\n",
       "      <td>2</td>\n",
       "      <td>2018-05-03 00:00:00</td>\n",
       "      <td>La Mirinda</td>\n",
       "      <td>22.248528</td>\n",
       "      <td>-102.251778</td>\n",
       "      <td>0.6</td>\n",
       "      <td>31.2</td>\n",
       "      <td>13.9</td>\n",
       "      <td>20.05</td>\n",
       "      <td>20.3</td>\n",
       "      <td>4.49</td>\n",
       "      <td>159.7</td>\n",
       "      <td>349.13</td>\n",
       "      <td>64.67</td>\n",
       "    </tr>\n",
       "    <tr>\n",
       "      <th>3</th>\n",
       "      <td>2</td>\n",
       "      <td>2018-05-04 00:00:00</td>\n",
       "      <td>La Mirinda</td>\n",
       "      <td>22.248528</td>\n",
       "      <td>-102.251778</td>\n",
       "      <td>1.6</td>\n",
       "      <td>30.5</td>\n",
       "      <td>14.7</td>\n",
       "      <td>21.01</td>\n",
       "      <td>6.3</td>\n",
       "      <td>3.45</td>\n",
       "      <td>98.9</td>\n",
       "      <td>375.06</td>\n",
       "      <td>64.73</td>\n",
       "    </tr>\n",
       "    <tr>\n",
       "      <th>4</th>\n",
       "      <td>2</td>\n",
       "      <td>2018-05-05 00:00:00</td>\n",
       "      <td>La Mirinda</td>\n",
       "      <td>22.248528</td>\n",
       "      <td>-102.251778</td>\n",
       "      <td>2.8</td>\n",
       "      <td>29.4</td>\n",
       "      <td>13.5</td>\n",
       "      <td>19.72</td>\n",
       "      <td>9.7</td>\n",
       "      <td>3.52</td>\n",
       "      <td>12.7</td>\n",
       "      <td>442.23</td>\n",
       "      <td>71.00</td>\n",
       "    </tr>\n",
       "  </tbody>\n",
       "</table>\n",
       "</div>"
      ],
      "text/plain": [
       "   numero                fecha      nombre    latitud    longitud  prec  tmax  \\\n",
       "0       2  2018-05-01 00:00:00  La Mirinda  22.248528 -102.251778   0.0  30.0   \n",
       "1       2  2018-05-02 00:00:00  La Mirinda  22.248528 -102.251778   0.2  31.4   \n",
       "2       2  2018-05-03 00:00:00  La Mirinda  22.248528 -102.251778   0.6  31.2   \n",
       "3       2  2018-05-04 00:00:00  La Mirinda  22.248528 -102.251778   1.6  30.5   \n",
       "4       2  2018-05-05 00:00:00  La Mirinda  22.248528 -102.251778   2.8  29.4   \n",
       "\n",
       "   tmin   tmed  velvmax  velv   dirv    radg   humr  \n",
       "0   8.2  20.56     17.4  9.01  163.1  429.81  33.47  \n",
       "1  13.0  21.94     15.6  7.26  161.1  450.76  41.72  \n",
       "2  13.9  20.05     20.3  4.49  159.7  349.13  64.67  \n",
       "3  14.7  21.01      6.3  3.45   98.9  375.06  64.73  \n",
       "4  13.5  19.72      9.7  3.52   12.7  442.23  71.00  "
      ]
     },
     "execution_count": 66,
     "metadata": {},
     "output_type": "execute_result"
    }
   ],
   "source": [
    "# leer información del csv\n",
    "df = pd.read_csv(\"data/estado1.csv\")\n",
    "df.head()"
   ]
  },
  {
   "cell_type": "code",
   "execution_count": 69,
   "metadata": {
    "collapsed": true
   },
   "outputs": [],
   "source": [
    "# obtener la temperatura máxima de la estación La Mirinda\n",
    "tmed = np.array(df[df[\"nombre\"] == \"La Mirinda\"][\"tmed\"])"
   ]
  },
  {
   "cell_type": "code",
   "execution_count": 70,
   "metadata": {},
   "outputs": [
    {
     "data": {
      "text/plain": [
       "20.311475409836067"
      ]
     },
     "execution_count": 70,
     "metadata": {},
     "output_type": "execute_result"
    }
   ],
   "source": [
    "# calcular la media de la temperatura máxima\n",
    "np.mean(tmed)"
   ]
  },
  {
   "cell_type": "code",
   "execution_count": 71,
   "metadata": {},
   "outputs": [
    {
     "data": {
      "image/png": "[encoded data removed]",
      "text/plain": [
       "<matplotlib.figure.Figure at 0x118835e48>"
      ]
     },
     "metadata": {},
     "output_type": "display_data"
    }
   ],
   "source": [
    "plt.hist(tmed, 30)\n",
    "plt.show()"
   ]
  },
  {
   "cell_type": "code",
   "execution_count": 72,
   "metadata": {},
   "outputs": [
    {
     "data": {
      "text/plain": [
       "20.51"
      ]
     },
     "execution_count": 72,
     "metadata": {},
     "output_type": "execute_result"
    }
   ],
   "source": [
    "# calcular la mediana de la temperatura máxima\n",
    "np.median(tmed)"
   ]
  },
  {
   "cell_type": "code",
   "execution_count": 73,
   "metadata": {
    "collapsed": true
   },
   "outputs": [],
   "source": [
    "# agregar una temperatura muy alta\n",
    "tmax = np.append(tmed,[1000])"
   ]
  },
  {
   "cell_type": "code",
   "execution_count": 74,
   "metadata": {},
   "outputs": [
    {
     "data": {
      "text/plain": [
       "20.51"
      ]
     },
     "execution_count": 74,
     "metadata": {},
     "output_type": "execute_result"
    }
   ],
   "source": [
    "# valor de la mediana\n",
    "np.median(tmed)"
   ]
  },
  {
   "cell_type": "code",
   "execution_count": 75,
   "metadata": {},
   "outputs": [
    {
     "data": {
      "text/plain": [
       "20.311475409836067"
      ]
     },
     "execution_count": 75,
     "metadata": {},
     "output_type": "execute_result"
    }
   ],
   "source": [
    "# valor de la media\n",
    "np.mean(tmed)"
   ]
  },
  {
   "cell_type": "code",
   "execution_count": 76,
   "metadata": {},
   "outputs": [
    {
     "data": {
      "text/plain": [
       "ModeResult(mode=array([18.73]), count=array([2]))"
      ]
     },
     "execution_count": 76,
     "metadata": {},
     "output_type": "execute_result"
    }
   ],
   "source": [
    "# calcular la moda\n",
    "from scipy import stats\n",
    "stats.mode(tmed)"
   ]
  },
  {
   "cell_type": "code",
   "execution_count": null,
   "metadata": {
    "collapsed": true
   },
   "outputs": [],
   "source": []
  },
  {
   "cell_type": "code",
   "execution_count": null,
   "metadata": {
    "collapsed": true
   },
   "outputs": [],
   "source": []
  }
 ],
 "metadata": {
  "kernelspec": {
   "display_name": "Python 3",
   "language": "python",
   "name": "python3"
  },
  "language_info": {
   "codemirror_mode": {
    "name": "ipython",
    "version": 3
   },
   "file_extension": ".py",
   "mimetype": "text/x-python",
   "name": "python",
   "nbconvert_exporter": "python",
   "pygments_lexer": "ipython3",
   "version": "3.6.5"
  }
 },
 "nbformat": 4,
 "nbformat_minor": 2
}
