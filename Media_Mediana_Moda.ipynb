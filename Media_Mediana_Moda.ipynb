{
 "cells": [
  {
   "cell_type": "markdown",
   "metadata": {},
   "source": [
    "# Estadística con Python\n",
    "\n",
    "### GitHub repository: https://github.com/jorgemauricio/python_statistics\n",
    "\n",
    "### Instructor: Jorge Mauricio"
   ]
  },
  {
   "cell_type": "markdown",
   "metadata": {},
   "source": [
    "## Tipos más comunes de información\n",
    "### Numérico\n",
    "\n",
    "Representa valores cuantificables como la altura de una persona, el valor de una acción, etc\n",
    "#### Valor Discreto\n",
    "\n",
    "Usualmente es un valor que cuenta un evento, por ejemplo, Cuantos días vas al gym en un mes?\n",
    "\n",
    "#### Valor contínuo\n",
    "\n",
    "Tiene un número infinito de posibilidades para sus valores, por ejemplo, Cuanta lluvia puede caer en un día?\n",
    "\n",
    "### Categorico\n",
    "\n",
    "Información cualitativa que no tiene un significado matemático, se pueden asignar numeros a categorías.\n",
    "\n",
    "### Ordinario\n",
    "\n",
    "Combinación numerica y categorica de información, la información categórica tiene un significado matemático, por ejemplo, el rating de los programas televisivos.\n",
    "\n"
   ]
  },
  {
   "cell_type": "markdown",
   "metadata": {},
   "source": [
    "## Media, Mediana, Moda\n",
    "\n",
    "Vamos a crear información ficticia sobre los sueldos en el Estado de Aguascalientes, centrada en 16,000 con una distribución normal y una desviación estandar de 12,000 y al menos 100,000 datos."
   ]
  },
  {
   "cell_type": "code",
   "execution_count": 11,
   "metadata": {},
   "outputs": [],
   "source": [
    "# librerías\n",
    "import numpy as np"
   ]
  },
  {
   "cell_type": "code",
   "execution_count": 15,
   "metadata": {},
   "outputs": [],
   "source": [
    "# generar información\n",
    "sueldos = np.random.normal(16000,12000,10000)"
   ]
  },
  {
   "cell_type": "code",
   "execution_count": 16,
   "metadata": {},
   "outputs": [
    {
     "data": {
      "text/plain": [
       "16068.874770870134"
      ]
     },
     "execution_count": 16,
     "metadata": {},
     "output_type": "execute_result"
    }
   ],
   "source": [
    "# calcular la media\n",
    "np.mean(sueldos)"
   ]
  },
  {
   "cell_type": "code",
   "execution_count": 17,
   "metadata": {},
   "outputs": [
    {
     "data": {
      "image/png": "[encoded data removed]",
      "text/plain": [
       "<Figure size 432x288 with 1 Axes>"
      ]
     },
     "metadata": {},
     "output_type": "display_data"
    }
   ],
   "source": [
    "# vamos a crear un histograma para visualizar la distribución de la información\n",
    "%matplotlib inline\n",
    "import matplotlib.pyplot as plt\n",
    "plt.hist(sueldos, 50)\n",
    "plt.show()"
   ]
  },
  {
   "cell_type": "code",
   "execution_count": 18,
   "metadata": {},
   "outputs": [
    {
     "data": {
      "text/plain": [
       "16145.562207467105"
      ]
     },
     "execution_count": 18,
     "metadata": {},
     "output_type": "execute_result"
    }
   ],
   "source": [
    "# calcular la mediana\n",
    "np.median(sueldos)"
   ]
  },
  {
   "cell_type": "code",
   "execution_count": 19,
   "metadata": {},
   "outputs": [],
   "source": [
    "# suponer que Tim Cook se viene a vivir al Estado de Aguascalientes\n",
    "sueldos = np.append(sueldos,[100000000])"
   ]
  },
  {
   "cell_type": "code",
   "execution_count": 20,
   "metadata": {},
   "outputs": [
    {
     "data": {
      "text/plain": [
       "16146.562407540545"
      ]
     },
     "execution_count": 20,
     "metadata": {},
     "output_type": "execute_result"
    }
   ],
   "source": [
    "# calcular la mediana\n",
    "np.median(sueldos)"
   ]
  },
  {
   "cell_type": "code",
   "execution_count": 21,
   "metadata": {},
   "outputs": [
    {
     "data": {
      "text/plain": [
       "26066.268144055728"
      ]
     },
     "execution_count": 21,
     "metadata": {},
     "output_type": "execute_result"
    }
   ],
   "source": [
    "# calcular la media\n",
    "np.mean(sueldos)"
   ]
  },
  {
   "cell_type": "markdown",
   "metadata": {},
   "source": [
    "### MODA\n",
    "Generar información ficticia para 1000 personas en las cuales tomaremos en cuenta"
   ]
  },
  {
   "cell_type": "code",
   "execution_count": 22,
   "metadata": {},
   "outputs": [
    {
     "data": {
      "text/plain": [
       "array([18, 65, 53, 33, 22, 28, 54, 86, 44, 63, 77, 84, 33, 50, 60, 66, 30,\n",
       "       79, 41, 89, 48, 87, 87, 80, 84, 62, 52, 28, 30, 59, 72, 21, 37, 59,\n",
       "       88, 18, 47, 80, 58, 84, 64, 85, 25, 21, 87, 56, 65, 29, 26, 80, 39,\n",
       "       18, 89, 85, 50, 58, 33, 25, 18, 25, 74, 40, 32, 58, 87, 84, 61, 27,\n",
       "       85, 79, 19, 24, 38, 62, 58, 42, 52, 80, 83, 27, 49, 18, 23, 49, 19,\n",
       "       65, 55, 27, 84, 67, 56, 67, 69, 82, 87, 54, 24, 22, 35, 43, 34, 84,\n",
       "       44, 88, 77, 28, 79, 74, 54, 71, 50, 18, 50, 57, 34, 80, 42, 55, 37,\n",
       "       27, 66, 60, 43, 55, 54, 59, 43, 83, 52, 53, 85, 43, 75, 40, 34, 48,\n",
       "       78, 86, 36, 35, 41, 89, 64, 88, 48, 44, 64, 50, 76, 56, 85, 66, 35,\n",
       "       60, 76, 73, 33, 45, 30, 79, 73, 32, 56, 24, 79, 58, 62, 78, 20, 89,\n",
       "       75, 68, 39, 58, 77, 69, 48, 81, 59, 57, 42, 18, 76, 29, 65, 32, 43,\n",
       "       34, 28, 40, 80, 29, 61, 86, 87, 28, 76, 67, 69, 27, 30, 63, 19, 85,\n",
       "       69, 36, 38, 41, 47, 48, 26, 53, 77, 47, 60, 54, 62, 29, 44, 46, 84,\n",
       "       46, 80, 62, 78, 72, 60, 89, 64, 42, 23, 41, 76, 31, 45, 57, 85, 31,\n",
       "       55, 24, 64, 61, 46, 83, 83, 41, 52, 86, 40, 84, 33, 29, 62, 28, 53,\n",
       "       24, 61, 75, 47, 75, 52, 24, 77, 49, 22, 53, 30, 27, 20, 49, 86, 52,\n",
       "       73, 62, 33, 21, 24, 55, 75, 44, 53, 88, 44, 53, 37, 61, 84, 84, 31,\n",
       "       62, 80, 39, 34, 77, 78, 84, 83, 32, 39, 74, 74, 35, 25, 27, 42, 31,\n",
       "       64, 32, 54, 50, 30, 21, 53, 48, 89, 22, 47, 54, 76, 87, 48, 71, 59,\n",
       "       23, 80, 84, 41, 33, 79, 38, 49, 57, 80, 59, 35, 84, 37, 41, 49, 32,\n",
       "       62, 62, 69, 24, 43, 76, 71, 48, 41, 50, 77, 77, 68, 77, 40, 51, 58,\n",
       "       76, 26, 30, 35, 34, 20, 41, 30, 19, 86, 72, 81, 83, 38, 81, 74, 33,\n",
       "       67, 88, 42, 55, 58, 74, 71, 60, 69, 27, 72, 70, 80, 43, 60, 50, 26,\n",
       "       21, 52, 72, 53, 27, 89, 68, 36, 64, 43, 66, 39, 67, 41, 81, 78, 29,\n",
       "       29, 60, 56, 21, 65, 38, 84, 64, 84, 38, 76, 55, 64, 65, 45, 27, 88,\n",
       "       23, 55, 78, 64, 51, 34, 79, 80, 65, 41, 46, 38, 86, 44, 27, 39, 71,\n",
       "       25, 41, 55, 32, 30, 24, 34, 59, 73, 47, 64, 33, 54, 38, 22, 31, 63,\n",
       "       51, 62, 86, 49, 34, 70, 33, 33, 72, 44, 19, 21, 70, 46, 68, 66, 44,\n",
       "       27, 23, 60, 27, 24, 44, 21, 48, 74, 84, 68, 41, 30, 56, 62, 74, 62,\n",
       "       49, 51, 45, 89, 89, 22, 83, 52, 23, 57, 39, 70, 80, 83, 32, 27, 28,\n",
       "       52, 19, 60, 38, 76, 81, 42, 83, 85, 50, 63, 89, 48, 31, 41, 59, 60,\n",
       "       37, 48, 38, 72, 75, 70, 29, 69, 46, 63, 37, 41, 81, 31, 31, 83, 65,\n",
       "       69, 52, 88, 54, 88, 31, 39, 74, 46, 71, 47, 89, 20, 41, 54, 33, 63,\n",
       "       56, 20, 74, 57, 39, 42, 73, 30, 71, 71, 59, 60, 34, 81, 49, 41, 58,\n",
       "       84, 83, 62, 71, 65, 66, 61, 69, 61, 80, 19, 25, 39, 52, 89, 89, 88,\n",
       "       83, 79, 79, 68, 85, 31, 23, 39, 43, 63, 50, 78, 27, 63, 74, 60, 67,\n",
       "       71, 33, 68, 89, 18, 21, 37, 24, 25, 82, 73, 26, 21, 31, 69, 53, 47,\n",
       "       79, 66, 63, 79, 73, 89, 59, 64, 60, 89, 33, 67, 53, 41, 88, 31, 31,\n",
       "       79, 44, 45, 72, 87, 35, 34, 24, 57, 24, 74, 21, 33, 33, 23, 55, 53,\n",
       "       63, 74, 60, 42, 54, 38, 41, 42, 41, 66, 80, 49, 59, 33, 39, 69, 55,\n",
       "       41, 43, 18, 46, 41, 70, 73, 18, 86, 81, 61, 56, 84, 18, 77, 63, 82,\n",
       "       32, 41, 21, 31, 18, 37, 54, 61, 58, 19, 83, 75, 19, 77, 75, 26, 20,\n",
       "       42, 40, 38, 46, 58, 55, 26, 21, 86, 42, 87, 39, 25, 37, 23, 65, 42,\n",
       "       56, 80, 23, 45, 81, 50, 62, 36, 86, 83, 82, 20, 76, 88, 60, 85, 32,\n",
       "       89, 48, 64, 35, 74, 83, 47, 44, 35, 41, 33, 45, 45, 47, 79, 32, 28,\n",
       "       61, 76, 56, 71, 31, 83, 22, 73, 89, 21, 59, 46, 48, 21, 54, 40, 83,\n",
       "       29, 25, 77, 37, 58, 76, 39, 23, 71, 65, 52, 52, 60, 37, 51, 84, 51,\n",
       "       19, 18, 47, 59, 28, 23, 25, 45, 83, 76, 64, 66, 66, 62, 51, 56, 87,\n",
       "       41, 25, 20, 24, 47, 38, 37, 44, 34, 40, 32, 55, 51, 66, 29, 54, 23,\n",
       "       73, 20, 82, 62, 75, 65, 80, 38, 35, 52, 56, 85, 51, 75, 28, 42, 74,\n",
       "       18, 26, 21, 83, 36, 21, 42, 73, 83, 71, 20, 80, 58, 46, 39, 26, 62,\n",
       "       61, 25, 38, 47, 26, 53, 81, 32, 27, 36, 71, 48, 59, 71, 29, 38, 37,\n",
       "       66, 88, 86, 41, 46, 28, 86, 82, 87, 56, 43, 24, 85, 37, 45, 74, 82,\n",
       "       58, 69, 70, 66, 49, 58, 66, 76, 36, 28, 80, 52, 85, 25, 52, 57, 40,\n",
       "       70, 47, 63, 59, 79, 52, 63, 70, 58, 86, 40, 38, 37, 38, 26, 25, 84,\n",
       "       52, 56, 53, 31, 68, 64, 63, 80, 87, 71, 28, 58, 67, 64, 71, 87, 32,\n",
       "       80, 38, 52, 58, 75, 40, 30, 46, 26, 89, 63, 72, 21, 38, 22, 35, 52,\n",
       "       85, 46, 42, 65, 69, 48, 89, 28, 79, 34, 38, 36, 55, 42, 44, 26, 66,\n",
       "       53, 42, 77, 36, 83, 27, 75, 82, 75, 44, 53, 81, 67, 83])"
      ]
     },
     "execution_count": 22,
     "metadata": {},
     "output_type": "execute_result"
    }
   ],
   "source": [
    "edades = np.random.randint(18, high=90, size=1000)\n",
    "edades"
   ]
  },
  {
   "cell_type": "code",
   "execution_count": 24,
   "metadata": {},
   "outputs": [
    {
     "data": {
      "text/plain": [
       "ModeResult(mode=array([41]), count=array([26]))"
      ]
     },
     "execution_count": 24,
     "metadata": {},
     "output_type": "execute_result"
    }
   ],
   "source": [
    "# librería\n",
    "from scipy import stats\n",
    "stats.mode(edades)"
   ]
  },
  {
   "cell_type": "code",
   "execution_count": null,
   "metadata": {},
   "outputs": [],
   "source": []
  }
 ],
 "metadata": {
  "kernelspec": {
   "display_name": "Python 3",
   "language": "python",
   "name": "python3"
  },
  "language_info": {
   "codemirror_mode": {
    "name": "ipython",
    "version": 3
   },
   "file_extension": ".py",
   "mimetype": "text/x-python",
   "name": "python",
   "nbconvert_exporter": "python",
   "pygments_lexer": "ipython3",
   "version": "3.6.5"
  }
 },
 "nbformat": 4,
 "nbformat_minor": 2
}
